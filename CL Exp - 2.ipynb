{
 "cells": [
  {
   "cell_type": "markdown",
   "id": "b14319bc",
   "metadata": {},
   "source": [
    "### Program to read content of file and write it another file"
   ]
  },
  {
   "cell_type": "code",
   "execution_count": null,
   "id": "79ca5e5f",
   "metadata": {},
   "outputs": [],
   "source": [
    "demo_file = open('demo.txt', 'r')\n",
    "filecontent = demo_file.read()\n",
    "demo_file.close()\n",
    "\n",
    "copy_file = open('copy.txt', 'w+')\n",
    "copy_file.write(filecontent)\n",
    "copycontent = copy_file.read()\n",
    "copy_file.close()"
   ]
  },
  {
   "cell_type": "markdown",
   "id": "7158d20c",
   "metadata": {},
   "source": [
    "### Python program to append data to existing file"
   ]
  },
  {
   "cell_type": "code",
   "execution_count": null,
   "id": "3bf3db74",
   "metadata": {},
   "outputs": [],
   "source": [
    "with open ('copy.txt', 'a') as file:\n",
    "    file.write('new data to append \\n')"
   ]
  },
  {
   "cell_type": "markdown",
   "id": "4c781c1f",
   "metadata": {},
   "source": [
    "### Python program to count number of lines, words and characters in file"
   ]
  },
  {
   "cell_type": "code",
   "execution_count": null,
   "id": "34dc9097",
   "metadata": {},
   "outputs": [],
   "source": [
    "with open('copy.txt', 'r') as file:\n",
    "    content = file.read()\n",
    "numlines = len(content.split('/n'))\n",
    "numwords = len(content.split())\n",
    "numchars = len(content)\n",
    "\n",
    "print(\"Number of Lines: \", numlines)\n",
    "print(\"Number of words: \", numwords)\n",
    "print(\"Number of chars: \", numchars"
   ]
  }
 ],
 "metadata": {
  "kernelspec": {
   "display_name": "Python 3 (ipykernel)",
   "language": "python",
   "name": "python3"
  },
  "language_info": {
   "codemirror_mode": {
    "name": "ipython",
    "version": 3
   },
   "file_extension": ".py",
   "mimetype": "text/x-python",
   "name": "python",
   "nbconvert_exporter": "python",
   "pygments_lexer": "ipython3",
   "version": "3.11.2"
  }
 },
 "nbformat": 4,
 "nbformat_minor": 5
}
