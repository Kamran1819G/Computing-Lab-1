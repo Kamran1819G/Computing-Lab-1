{
 "cells": [
  {
   "cell_type": "markdown",
   "id": "7a42aba1",
   "metadata": {},
   "source": [
    "# Experiment No : 10"
   ]
  },
  {
   "cell_type": "code",
   "execution_count": 15,
   "id": "192e4bd2",
   "metadata": {},
   "outputs": [
    {
     "name": "stderr",
     "output_type": "stream",
     "text": [
      "[nltk_data] Downloading package punkt to\n",
      "[nltk_data]     C:\\Users\\Kamran\\AppData\\Roaming\\nltk_data...\n",
      "[nltk_data]   Package punkt is already up-to-date!\n",
      "[nltk_data] Downloading package stopwords to\n",
      "[nltk_data]     C:\\Users\\Kamran\\AppData\\Roaming\\nltk_data...\n",
      "[nltk_data]   Package stopwords is already up-to-date!\n",
      "[nltk_data] Downloading package wordnet to\n",
      "[nltk_data]     C:\\Users\\Kamran\\AppData\\Roaming\\nltk_data...\n",
      "[nltk_data]   Package wordnet is already up-to-date!\n"
     ]
    },
    {
     "name": "stdout",
     "output_type": "stream",
     "text": [
      "['hello', 'i', 'example', 'text', 'i', 'contain', 'word', 'number', 'like', 'i', 'i', 'also', 'i', 'punctual', 'like', 'comma', 'i', 'period', 'i', 'exclaim', 'mark', 'i']\n",
      "Hello, this is bold text!\n"
     ]
    }
   ],
   "source": [
    "import nltk\n",
    "from nltk.corpus import stopwords\n",
    "from nltk.tokenize import word_tokenize\n",
    "from nltk.stem import PorterStemmer, WordNetLemmatizer\n",
    "import string\n",
    "import re\n",
    "from spellchecker import SpellChecker\n",
    "from bs4 import BeautifulSoup\n",
    "\n",
    "# Download required NLTK data\n",
    "nltk.download('punkt')\n",
    "nltk.download('stopwords')\n",
    "nltk.download('wordnet')\n",
    "\n",
    "# Define example text to work with\n",
    "text = \"Hello, this is an example text! It contains some words and numbers like 12345. Also, it has some punctuations like commas, periods, and exclamation marks.\"\n",
    "\n",
    "# Tokenize the text into individual words\n",
    "tokens = word_tokenize(text)\n",
    "\n",
    "# Convert all words to lowercase\n",
    "tokens = [token.lower() for token in tokens]\n",
    "\n",
    "# Remove English stop words (e.g. \"the\", \"a\", \"an\") from the tokens\n",
    "stop_words = set(stopwords.words('english'))\n",
    "tokens = [token for token in tokens if token not in stop_words]\n",
    "\n",
    "# Apply stemming to the tokens (i.e. reduce each word to its root form)\n",
    "stemmer = PorterStemmer()\n",
    "tokens = [stemmer.stem(token) for token in tokens]\n",
    "\n",
    "# Apply lemmatization to the tokens (i.e. convert each word to its base form based on its part of speech)\n",
    "lemmatizer = WordNetLemmatizer()\n",
    "tokens = [lemmatizer.lemmatize(token) for token in tokens]\n",
    "\n",
    "# Remove all punctuation from the tokens\n",
    "tokens = [token.translate(str.maketrans('', '', string.punctuation)) for token in tokens]\n",
    "\n",
    "# Remove all special characters from the tokens\n",
    "tokens = [re.sub(r'[^a-zA-Z0-9]+', '', token) for token in tokens]\n",
    "\n",
    "# Remove all numbers from the tokens\n",
    "tokens = [re.sub(r'\\d+', '', token) for token in tokens]\n",
    "\n",
    "# Use a spell checker to correct any misspelled words in the tokens\n",
    "spell = SpellChecker()\n",
    "tokens = [spell.correction(token) for token in tokens]\n",
    "\n",
    "# Remove any HTML tags from the text\n",
    "html_text = \"<p>Hello, this is <strong>bold</strong> text!</p>\"\n",
    "soup = BeautifulSoup(html_text, 'html.parser')\n",
    "clean_text = soup.get_text()\n",
    "\n",
    "# Print the final tokens and cleaned text\n",
    "print(tokens)\n",
    "print(clean_text)\n"
   ]
  }
 ],
 "metadata": {
  "kernelspec": {
   "display_name": "Python 3 (ipykernel)",
   "language": "python",
   "name": "python3"
  },
  "language_info": {
   "codemirror_mode": {
    "name": "ipython",
    "version": 3
   },
   "file_extension": ".py",
   "mimetype": "text/x-python",
   "name": "python",
   "nbconvert_exporter": "python",
   "pygments_lexer": "ipython3",
   "version": "3.11.2"
  }
 },
 "nbformat": 4,
 "nbformat_minor": 5
}
