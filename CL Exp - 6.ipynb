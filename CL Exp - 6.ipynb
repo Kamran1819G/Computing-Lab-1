{
 "cells": [
  {
   "cell_type": "code",
   "execution_count": 1,
   "id": "e978cbd9",
   "metadata": {},
   "outputs": [
    {
     "name": "stdout",
     "output_type": "stream",
     "text": [
      "    Confirmed CountryReg  Deaths  LastUpdate   Latitude  Longitude  Province   \n",
      "0           1      India       0  2020-01-30   0.000000    0.00000         0  \\\n",
      "1           1      India       0  2020-01-31   0.000000    0.00000         0   \n",
      "2           1      India       0  2020-01-31   0.000000    0.00000         0   \n",
      "3           2      India       0  2020-02-02   0.000000    0.00000         0   \n",
      "4           3      India       0  2020-02-03   0.000000    0.00000         0   \n",
      "..        ...        ...     ...         ...        ...        ...       ...   \n",
      "57        887      India      20  2020-03-27  20.593684   78.96288         0   \n",
      "58        987      India      24  2020-03-28  20.593684   78.96288         0   \n",
      "59       1024      India      27  2020-03-29  20.593684   78.96288         0   \n",
      "60       1251      India      32  2020-03-30  20.593684   78.96288         0   \n",
      "61       1397      India      35  2020-03-31  20.593684   78.96288         0   \n",
      "\n",
      "    Recovered  week  Recovery_Percentage  Death_Percentage   \n",
      "0           0     5                  0.0               0.0  \\\n",
      "1           0     5                  0.0               0.0   \n",
      "2           0     5                  0.0               0.0   \n",
      "3           0     5                  0.0               0.0   \n",
      "4           0     6                  0.0               0.0   \n",
      "..        ...   ...                  ...               ...   \n",
      "57         73    13                  8.0               2.0   \n",
      "58         84    13                  9.0               2.0   \n",
      "59         95    13                  9.0               3.0   \n",
      "60        102    14                  8.0               3.0   \n",
      "61        123    14                  9.0               3.0   \n",
      "\n",
      "    Percent_of_change_over_last_day  No_Of_Days  \n",
      "0                               0.0           0  \n",
      "1                               0.0           1  \n",
      "2                               0.0           2  \n",
      "3                             100.0           3  \n",
      "4                              50.0           4  \n",
      "..                              ...         ...  \n",
      "57                             22.0          57  \n",
      "58                             11.0          58  \n",
      "59                              4.0          59  \n",
      "60                             22.0          60  \n",
      "61                             12.0          61  \n",
      "\n",
      "[62 rows x 13 columns]\n"
     ]
    }
   ],
   "source": [
    "import pandas as pd\n",
    "\n",
    "df = pd.read_csv(\"CovidIndiaData-01-04-2020.csv\")\n",
    "\n",
    "df.dropna(inplace = True)\n",
    "print(df)"
   ]
  },
  {
   "cell_type": "code",
   "execution_count": 2,
   "id": "e67e58bf",
   "metadata": {},
   "outputs": [
    {
     "name": "stdout",
     "output_type": "stream",
     "text": [
      "<pandas.core.groupby.generic.DataFrameGroupBy object at 0x00000273FFA4F890>\n"
     ]
    }
   ],
   "source": [
    "week_group = df.groupby('week')\n",
    "print(week_group)"
   ]
  },
  {
   "cell_type": "code",
   "execution_count": 3,
   "id": "8c43b464",
   "metadata": {},
   "outputs": [
    {
     "data": {
      "text/plain": [
       "<bound method DataFrame.info of     Confirmed CountryReg  Deaths  LastUpdate   Latitude  Longitude  Province   \n",
       "0           1      India       0  2020-01-30   0.000000    0.00000         0  \\\n",
       "1           1      India       0  2020-01-31   0.000000    0.00000         0   \n",
       "2           1      India       0  2020-01-31   0.000000    0.00000         0   \n",
       "3           2      India       0  2020-02-02   0.000000    0.00000         0   \n",
       "4           3      India       0  2020-02-03   0.000000    0.00000         0   \n",
       "..        ...        ...     ...         ...        ...        ...       ...   \n",
       "57        887      India      20  2020-03-27  20.593684   78.96288         0   \n",
       "58        987      India      24  2020-03-28  20.593684   78.96288         0   \n",
       "59       1024      India      27  2020-03-29  20.593684   78.96288         0   \n",
       "60       1251      India      32  2020-03-30  20.593684   78.96288         0   \n",
       "61       1397      India      35  2020-03-31  20.593684   78.96288         0   \n",
       "\n",
       "    Recovered  week  Recovery_Percentage  Death_Percentage   \n",
       "0           0     5                  0.0               0.0  \\\n",
       "1           0     5                  0.0               0.0   \n",
       "2           0     5                  0.0               0.0   \n",
       "3           0     5                  0.0               0.0   \n",
       "4           0     6                  0.0               0.0   \n",
       "..        ...   ...                  ...               ...   \n",
       "57         73    13                  8.0               2.0   \n",
       "58         84    13                  9.0               2.0   \n",
       "59         95    13                  9.0               3.0   \n",
       "60        102    14                  8.0               3.0   \n",
       "61        123    14                  9.0               3.0   \n",
       "\n",
       "    Percent_of_change_over_last_day  No_Of_Days  \n",
       "0                               0.0           0  \n",
       "1                               0.0           1  \n",
       "2                               0.0           2  \n",
       "3                             100.0           3  \n",
       "4                              50.0           4  \n",
       "..                              ...         ...  \n",
       "57                             22.0          57  \n",
       "58                             11.0          58  \n",
       "59                              4.0          59  \n",
       "60                             22.0          60  \n",
       "61                             12.0          61  \n",
       "\n",
       "[62 rows x 13 columns]>"
      ]
     },
     "execution_count": 3,
     "metadata": {},
     "output_type": "execute_result"
    }
   ],
   "source": [
    "df.info"
   ]
  },
  {
   "cell_type": "code",
   "execution_count": 4,
   "id": "41ced708",
   "metadata": {},
   "outputs": [
    {
     "data": {
      "text/plain": [
       "week\n",
       "5        1.250000\n",
       "6        3.000000\n",
       "7        3.000000\n",
       "10      24.571429\n",
       "11      75.857143\n",
       "12     225.857143\n",
       "13     759.571429\n",
       "14    1324.000000\n",
       "Name: Confirmed, dtype: float64"
      ]
     },
     "execution_count": 4,
     "metadata": {},
     "output_type": "execute_result"
    }
   ],
   "source": [
    "week_group[\"Confirmed\"].mean()"
   ]
  },
  {
   "cell_type": "code",
   "execution_count": 5,
   "id": "719837c9",
   "metadata": {},
   "outputs": [
    {
     "data": {
      "text/html": [
       "<div>\n",
       "<style scoped>\n",
       "    .dataframe tbody tr th:only-of-type {\n",
       "        vertical-align: middle;\n",
       "    }\n",
       "\n",
       "    .dataframe tbody tr th {\n",
       "        vertical-align: top;\n",
       "    }\n",
       "\n",
       "    .dataframe thead th {\n",
       "        text-align: right;\n",
       "    }\n",
       "</style>\n",
       "<table border=\"1\" class=\"dataframe\">\n",
       "  <thead>\n",
       "    <tr style=\"text-align: right;\">\n",
       "      <th></th>\n",
       "      <th>mean</th>\n",
       "      <th>sum</th>\n",
       "      <th>std</th>\n",
       "    </tr>\n",
       "    <tr>\n",
       "      <th>week</th>\n",
       "      <th></th>\n",
       "      <th></th>\n",
       "      <th></th>\n",
       "    </tr>\n",
       "  </thead>\n",
       "  <tbody>\n",
       "    <tr>\n",
       "      <th>5</th>\n",
       "      <td>1.250000</td>\n",
       "      <td>5</td>\n",
       "      <td>0.500000</td>\n",
       "    </tr>\n",
       "    <tr>\n",
       "      <th>6</th>\n",
       "      <td>3.000000</td>\n",
       "      <td>30</td>\n",
       "      <td>0.000000</td>\n",
       "    </tr>\n",
       "    <tr>\n",
       "      <th>7</th>\n",
       "      <td>3.000000</td>\n",
       "      <td>54</td>\n",
       "      <td>0.000000</td>\n",
       "    </tr>\n",
       "    <tr>\n",
       "      <th>10</th>\n",
       "      <td>24.571429</td>\n",
       "      <td>172</td>\n",
       "      <td>13.818552</td>\n",
       "    </tr>\n",
       "    <tr>\n",
       "      <th>11</th>\n",
       "      <td>75.857143</td>\n",
       "      <td>531</td>\n",
       "      <td>25.082720</td>\n",
       "    </tr>\n",
       "    <tr>\n",
       "      <th>12</th>\n",
       "      <td>225.857143</td>\n",
       "      <td>1581</td>\n",
       "      <td>103.657173</td>\n",
       "    </tr>\n",
       "    <tr>\n",
       "      <th>13</th>\n",
       "      <td>759.571429</td>\n",
       "      <td>5317</td>\n",
       "      <td>211.087547</td>\n",
       "    </tr>\n",
       "    <tr>\n",
       "      <th>14</th>\n",
       "      <td>1324.000000</td>\n",
       "      <td>2648</td>\n",
       "      <td>103.237590</td>\n",
       "    </tr>\n",
       "  </tbody>\n",
       "</table>\n",
       "</div>"
      ],
      "text/plain": [
       "             mean   sum         std\n",
       "week                               \n",
       "5        1.250000     5    0.500000\n",
       "6        3.000000    30    0.000000\n",
       "7        3.000000    54    0.000000\n",
       "10      24.571429   172   13.818552\n",
       "11      75.857143   531   25.082720\n",
       "12     225.857143  1581  103.657173\n",
       "13     759.571429  5317  211.087547\n",
       "14    1324.000000  2648  103.237590"
      ]
     },
     "execution_count": 5,
     "metadata": {},
     "output_type": "execute_result"
    }
   ],
   "source": [
    "week_group['Confirmed'].agg(['mean','sum','std'])"
   ]
  },
  {
   "cell_type": "code",
   "execution_count": 6,
   "id": "f692136d",
   "metadata": {},
   "outputs": [
    {
     "name": "stdout",
     "output_type": "stream",
     "text": [
      "      Mean Confirmed Case  Total Confirmed Case   \n",
      "week                                              \n",
      "5                1.250000                     5  \\\n",
      "6                3.000000                    30   \n",
      "7                3.000000                    54   \n",
      "10              24.571429                   172   \n",
      "11              75.857143                   531   \n",
      "12             225.857143                  1581   \n",
      "13             759.571429                  5317   \n",
      "14            1324.000000                  2648   \n",
      "\n",
      "      Standard Deviation of Confirmed Case  \n",
      "week                                        \n",
      "5                                 0.500000  \n",
      "6                                 0.000000  \n",
      "7                                 0.000000  \n",
      "10                               13.818552  \n",
      "11                               25.082720  \n",
      "12                              103.657173  \n",
      "13                              211.087547  \n",
      "14                              103.237590  \n"
     ]
    }
   ],
   "source": [
    "week_summary = week_group['Confirmed'].agg(['mean','sum','std']).rename(columns={'mean':'Mean Confirmed Case', 'sum':'Total Confirmed Case', 'std':'Standard Deviation of Confirmed Case'})\n",
    "print(week_summary)"
   ]
  },
  {
   "cell_type": "code",
   "execution_count": 7,
   "id": "9046ba8b",
   "metadata": {},
   "outputs": [
    {
     "data": {
      "text/html": [
       "<div>\n",
       "<style scoped>\n",
       "    .dataframe tbody tr th:only-of-type {\n",
       "        vertical-align: middle;\n",
       "    }\n",
       "\n",
       "    .dataframe tbody tr th {\n",
       "        vertical-align: top;\n",
       "    }\n",
       "\n",
       "    .dataframe thead th {\n",
       "        text-align: right;\n",
       "    }\n",
       "</style>\n",
       "<table border=\"1\" class=\"dataframe\">\n",
       "  <thead>\n",
       "    <tr style=\"text-align: right;\">\n",
       "      <th></th>\n",
       "      <th>Mean Confirmed Case</th>\n",
       "      <th>Total Confirmed Case</th>\n",
       "      <th>Standard Deviation of Confirmed Case</th>\n",
       "    </tr>\n",
       "    <tr>\n",
       "      <th>week</th>\n",
       "      <th></th>\n",
       "      <th></th>\n",
       "      <th></th>\n",
       "    </tr>\n",
       "  </thead>\n",
       "  <tbody>\n",
       "    <tr>\n",
       "      <th>13</th>\n",
       "      <td>759.571429</td>\n",
       "      <td>5317</td>\n",
       "      <td>211.087547</td>\n",
       "    </tr>\n",
       "    <tr>\n",
       "      <th>14</th>\n",
       "      <td>1324.000000</td>\n",
       "      <td>2648</td>\n",
       "      <td>103.237590</td>\n",
       "    </tr>\n",
       "    <tr>\n",
       "      <th>12</th>\n",
       "      <td>225.857143</td>\n",
       "      <td>1581</td>\n",
       "      <td>103.657173</td>\n",
       "    </tr>\n",
       "    <tr>\n",
       "      <th>11</th>\n",
       "      <td>75.857143</td>\n",
       "      <td>531</td>\n",
       "      <td>25.082720</td>\n",
       "    </tr>\n",
       "    <tr>\n",
       "      <th>10</th>\n",
       "      <td>24.571429</td>\n",
       "      <td>172</td>\n",
       "      <td>13.818552</td>\n",
       "    </tr>\n",
       "    <tr>\n",
       "      <th>7</th>\n",
       "      <td>3.000000</td>\n",
       "      <td>54</td>\n",
       "      <td>0.000000</td>\n",
       "    </tr>\n",
       "    <tr>\n",
       "      <th>6</th>\n",
       "      <td>3.000000</td>\n",
       "      <td>30</td>\n",
       "      <td>0.000000</td>\n",
       "    </tr>\n",
       "    <tr>\n",
       "      <th>5</th>\n",
       "      <td>1.250000</td>\n",
       "      <td>5</td>\n",
       "      <td>0.500000</td>\n",
       "    </tr>\n",
       "  </tbody>\n",
       "</table>\n",
       "</div>"
      ],
      "text/plain": [
       "      Mean Confirmed Case  Total Confirmed Case   \n",
       "week                                              \n",
       "13             759.571429                  5317  \\\n",
       "14            1324.000000                  2648   \n",
       "12             225.857143                  1581   \n",
       "11              75.857143                   531   \n",
       "10              24.571429                   172   \n",
       "7                3.000000                    54   \n",
       "6                3.000000                    30   \n",
       "5                1.250000                     5   \n",
       "\n",
       "      Standard Deviation of Confirmed Case  \n",
       "week                                        \n",
       "13                              211.087547  \n",
       "14                              103.237590  \n",
       "12                              103.657173  \n",
       "11                               25.082720  \n",
       "10                               13.818552  \n",
       "7                                 0.000000  \n",
       "6                                 0.000000  \n",
       "5                                 0.500000  "
      ]
     },
     "execution_count": 7,
     "metadata": {},
     "output_type": "execute_result"
    }
   ],
   "source": [
    "week_summary.sort_values(by=\"Total Confirmed Case\", ascending=False)"
   ]
  },
  {
   "cell_type": "code",
   "execution_count": null,
   "id": "b866a3be",
   "metadata": {},
   "outputs": [],
   "source": []
  }
 ],
 "metadata": {
  "kernelspec": {
   "display_name": "Python 3 (ipykernel)",
   "language": "python",
   "name": "python3"
  },
  "language_info": {
   "codemirror_mode": {
    "name": "ipython",
    "version": 3
   },
   "file_extension": ".py",
   "mimetype": "text/x-python",
   "name": "python",
   "nbconvert_exporter": "python",
   "pygments_lexer": "ipython3",
   "version": "3.11.2"
  }
 },
 "nbformat": 4,
 "nbformat_minor": 5
}
